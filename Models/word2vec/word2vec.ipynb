{
 "cells": [
  {
   "cell_type": "code",
   "execution_count": 1,
   "id": "774cfa27",
   "metadata": {},
   "outputs": [],
   "source": [
    "# IMPORTS \n",
    "import gensim \n",
    "import pandas as pd"
   ]
  },
  {
   "cell_type": "code",
   "execution_count": 2,
   "id": "515e7c6b",
   "metadata": {},
   "outputs": [],
   "source": [
    "# Preparing Data \n",
    "\n",
    "df1 = pd.read_csv('DATA/wiki_data.txt', sep=\":\", header=None)\n",
    "df2 = pd.read_csv('DATA/wiki_data_2.txt', sep=\":\", header=None)\n",
    "df3 = pd.read_csv('DATA/wiki_data_3.txt', sep=\":\", header=None)\n",
    "df4 = pd.read_csv('DATA/wiki_data_4.txt', sep=\":\", header=None)\n",
    "\n",
    "df1 = df1.append(df2,ignore_index = True)\n",
    "df1 = df1.append(df3, ignore_index = True)\n",
    "df1 = df1.append(df4, ignore_index = True)\n",
    "df = df1\n",
    "\n",
    "df = df.drop(labels=1, axis=1)\n",
    "df.rename(columns = {0:'reviewText'}, inplace = True)"
   ]
  },
  {
   "cell_type": "code",
   "execution_count": 3,
   "id": "d12d411a",
   "metadata": {},
   "outputs": [
    {
     "data": {
      "text/html": [
       "<div>\n",
       "<style scoped>\n",
       "    .dataframe tbody tr th:only-of-type {\n",
       "        vertical-align: middle;\n",
       "    }\n",
       "\n",
       "    .dataframe tbody tr th {\n",
       "        vertical-align: top;\n",
       "    }\n",
       "\n",
       "    .dataframe thead th {\n",
       "        text-align: right;\n",
       "    }\n",
       "</style>\n",
       "<table border=\"1\" class=\"dataframe\">\n",
       "  <thead>\n",
       "    <tr style=\"text-align: right;\">\n",
       "      <th></th>\n",
       "      <th>reviewText</th>\n",
       "    </tr>\n",
       "  </thead>\n",
       "  <tbody>\n",
       "    <tr>\n",
       "      <th>0</th>\n",
       "      <td>Սեմենովսկի գյուղական խորհուրդ Ուկրաինայի Խարկո...</td>\n",
       "    </tr>\n",
       "    <tr>\n",
       "      <th>1</th>\n",
       "      <td>թվականի տվյալներով Սեմենովսկի գյուղական խորհրդ...</td>\n",
       "    </tr>\n",
       "    <tr>\n",
       "      <th>2</th>\n",
       "      <td>Կանադական ֆրանսալեզու հատուկ հեռուստաալիք ուղղ...</td>\n",
       "    </tr>\n",
       "    <tr>\n",
       "      <th>3</th>\n",
       "      <td>Բերեզովկա գյուղ Ռուսաստանի Բաշկորտոստան հանրապ...</td>\n",
       "    </tr>\n",
       "    <tr>\n",
       "      <th>4</th>\n",
       "      <td>Մալտեզիաները նուրբ և զգայուն փոքրիկ շներ են որ...</td>\n",
       "    </tr>\n",
       "  </tbody>\n",
       "</table>\n",
       "</div>"
      ],
      "text/plain": [
       "                                          reviewText\n",
       "0  Սեմենովսկի գյուղական խորհուրդ Ուկրաինայի Խարկո...\n",
       "1  թվականի տվյալներով Սեմենովսկի գյուղական խորհրդ...\n",
       "2  Կանադական ֆրանսալեզու հատուկ հեռուստաալիք ուղղ...\n",
       "3  Բերեզովկա գյուղ Ռուսաստանի Բաշկորտոստան հանրապ...\n",
       "4  Մալտեզիաները նուրբ և զգայուն փոքրիկ շներ են որ..."
      ]
     },
     "execution_count": 3,
     "metadata": {},
     "output_type": "execute_result"
    }
   ],
   "source": [
    "df.head()"
   ]
  },
  {
   "cell_type": "code",
   "execution_count": 4,
   "id": "e542d216",
   "metadata": {},
   "outputs": [],
   "source": [
    "# Looping over the Data and separating it into sentences. \n",
    "review_text = df.reviewText.apply(gensim.utils.simple_preprocess)"
   ]
  },
  {
   "cell_type": "code",
   "execution_count": 5,
   "id": "00cc0be1",
   "metadata": {},
   "outputs": [
    {
     "data": {
      "text/plain": [
       "0         [սեմենովսկի, գյուղական, խորհուրդ, ուկրաինայի, ...\n",
       "1         [թվականի, տվյալներով, սեմենովսկի, գյուղական, խ...\n",
       "2         [կանադական, ֆրանսալեզու, հատուկ, հեռուստաալիք,...\n",
       "3         [բերեզովկա, գյուղ, ռուսաստանի, բաշկորտոստան, հ...\n",
       "4         [մալտեզիաները, նուրբ, զգայուն, փոքրիկ, շներ, ե...\n",
       "                                ...                        \n",
       "135638    [թե, հատկապես, քանի, մարդ, սպանել, գրոսսմանը, ...\n",
       "135639    [փորձագետները, արյան, բծերի, հիման, վրա, պարզե...\n",
       "135640    [որոշ, աղբյուրներ, պնդել, են, որ, կարլն, ընդհա...\n",
       "135641    [ոստիկանները, որևէ, ճշգրիտ, տվյալներ, չեն, հրա...\n",
       "135642    [արդյունքում, գրոսմանը, որն, այդպես, էլ, չի, խ...\n",
       "Name: reviewText, Length: 135643, dtype: object"
      ]
     },
     "execution_count": 5,
     "metadata": {},
     "output_type": "execute_result"
    }
   ],
   "source": [
    "review_text"
   ]
  },
  {
   "cell_type": "code",
   "execution_count": 6,
   "id": "3f05e7f9",
   "metadata": {},
   "outputs": [],
   "source": [
    "# Creating the model\n",
    "model = gensim.models.Word2Vec(\n",
    "    window=10, # 10 words before and after\n",
    "    min_count=2, # if u have a sentence that has 1 word do not use \n",
    "    workers=4, \n",
    ")\n",
    "\n",
    "model.build_vocab(review_text, progress_per=1000)"
   ]
  },
  {
   "cell_type": "code",
   "execution_count": 8,
   "id": "136fae68",
   "metadata": {},
   "outputs": [
    {
     "data": {
      "text/plain": [
       "(17967115, 19638665)"
      ]
     },
     "execution_count": 8,
     "metadata": {},
     "output_type": "execute_result"
    }
   ],
   "source": [
    "# Training the model with initially prepared data\n",
    "model.train(review_text, total_examples=model.corpus_count, epochs=model.epochs)"
   ]
  },
  {
   "cell_type": "code",
   "execution_count": 9,
   "id": "f87c955b",
   "metadata": {},
   "outputs": [],
   "source": [
    "# Saving the model \n",
    "model.save(\"./word2vec-wiki.model\")"
   ]
  },
  {
   "cell_type": "code",
   "execution_count": 10,
   "id": "10bc4905",
   "metadata": {},
   "outputs": [
    {
     "data": {
      "text/plain": [
       "[('սիրում', 0.8660204410552979),\n",
       " ('սեր', 0.8593016266822815),\n",
       " ('սովորեցրել', 0.8548468351364136),\n",
       " ('գիտեր', 0.8540932536125183),\n",
       " ('մայրն', 0.8470818996429443),\n",
       " ('սիրահարված', 0.8442158102989197),\n",
       " ('քերոլը', 0.838726818561554),\n",
       " ('երազում', 0.8307823538780212),\n",
       " ('երջանիկ', 0.826560378074646),\n",
       " ('սիրահարվում', 0.8249344229698181)]"
      ]
     },
     "execution_count": 10,
     "metadata": {},
     "output_type": "execute_result"
    }
   ],
   "source": [
    "model.wv.most_similar(\"սիրել\")"
   ]
  },
  {
   "cell_type": "code",
   "execution_count": 52,
   "id": "e6810b11",
   "metadata": {},
   "outputs": [],
   "source": [
    "# The text that we give as an input\n",
    "text = \"Ես սիրում եմ\""
   ]
  },
  {
   "cell_type": "code",
   "execution_count": 54,
   "id": "dd66735c",
   "metadata": {},
   "outputs": [],
   "source": [
    "# Prediction of the model\n",
    "prediction = model.wv.most_similar(positive=gensim.utils.simple_preprocess(text), topn=1)[0][0]"
   ]
  },
  {
   "cell_type": "code",
   "execution_count": 55,
   "id": "45b16f8a",
   "metadata": {},
   "outputs": [
    {
     "name": "stdout",
     "output_type": "stream",
     "text": [
      "ինձ\n"
     ]
    }
   ],
   "source": [
    "print(prediction)"
   ]
  }
 ],
 "metadata": {
  "kernelspec": {
   "display_name": "Python 3 (ipykernel)",
   "language": "python",
   "name": "python3"
  },
  "language_info": {
   "codemirror_mode": {
    "name": "ipython",
    "version": 3
   },
   "file_extension": ".py",
   "mimetype": "text/x-python",
   "name": "python",
   "nbconvert_exporter": "python",
   "pygments_lexer": "ipython3",
   "version": "3.8.8"
  }
 },
 "nbformat": 4,
 "nbformat_minor": 5
}
